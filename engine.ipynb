{
 "cells": [
  {
   "cell_type": "markdown",
   "metadata": {},
   "source": [
    "# Easter 2020 Free-Time Project\n",
    "## Programming a chess engine\n",
    "### Simon Ilincev"
   ]
  },
  {
   "cell_type": "markdown",
   "metadata": {},
   "source": [
    "## About\n",
    "\n",
    "I am working on programming a chess engine that will be able to use machine learning to beat human players. It will try to look ahead using minimax alpha-beta pruning and pick the best choice.\n",
    "\n",
    "## Table of Contents\n",
    "\n",
    "1. [Board Evaluation](#Board-Evaluation)\n",
    "2. [Preparing the Game](#Preparing-the-Game)\n",
    "3. [Minimax](#Minimax)\n",
    "4. [Game styles](#Game-styles)\n",
    "5. [Running the Game](#Running=the-Game)"
   ]
  },
  {
   "cell_type": "code",
   "execution_count": 2022,
   "metadata": {
    "scrolled": true
   },
   "outputs": [],
   "source": [
    "import chess, chess.svg, random, time, chess.engine, chess.pgn #importing the chess module, the way to print it, and random\n",
    "from IPython.display import SVG, display, HTML, clear_output\n",
    "from copy import deepcopy"
   ]
  },
  {
   "cell_type": "markdown",
   "metadata": {},
   "source": [
    "Setting necessary variables"
   ]
  },
  {
   "cell_type": "code",
   "execution_count": 2023,
   "metadata": {},
   "outputs": [],
   "source": [
    "enders = [\"stalemate\", \"insufficient material\", \"five-fold repetition\", \"checkmate on white\", \"checkmate on black\", \"can claim draw\"]\n",
    "turn = True\n",
    "board = chess.Board()"
   ]
  },
  {
   "cell_type": "markdown",
   "metadata": {},
   "source": [
    "# Board Evaluation"
   ]
  },
  {
   "cell_type": "code",
   "execution_count": 2024,
   "metadata": {
    "scrolled": false
   },
   "outputs": [],
   "source": [
    "def evaluate():\n",
    "    if board.is_stalemate() == True: #making sure there is no draw\n",
    "        return \"stalemate\"\n",
    "    elif board.is_insufficient_material() == True:\n",
    "        return \"insufficient material\"\n",
    "    elif board.is_fivefold_repetition() == True:\n",
    "        return \"five-fold repetition\"\n",
    "    elif board.can_claim_draw == True:\n",
    "        return \"can claim draw\"\n",
    "    elif board.is_checkmate() == True:\n",
    "        if board.turn == True: #if true, it is white's turn and he lost\n",
    "            return \"checkmate on white\"\n",
    "        else:\n",
    "            return \"checkmate on black\" #otherwise black's loss\n",
    "    else:\n",
    "        return \"safe\""
   ]
  },
  {
   "cell_type": "code",
   "execution_count": 2025,
   "metadata": {
    "scrolled": false
   },
   "outputs": [],
   "source": [
    "enders = [\"stalemate\", \"insufficient material\", \"five-fold repetition\", \"checkmate on white\", \"checkmate on black\", \"can claim draw\"]\n",
    "turn = True"
   ]
  },
  {
   "cell_type": "markdown",
   "metadata": {},
   "source": [
    "We are now creating table for how much more the piece is worth if it is in a certain position."
   ]
  },
  {
   "cell_type": "code",
   "execution_count": 2026,
   "metadata": {},
   "outputs": [],
   "source": [
    "pawntable = [ #needs to be in reverse order as 0th is top left\n",
    " 0,  0,  0,  0,  0,  0,  0,  0,\n",
    " 5, 10, 10,-20,-20, 10, 10,  5,\n",
    " 5, -5,-10,  0,  0,-10, -5,  5,\n",
    " 0,  0,  0, 20, 20,  0,  0,  0,\n",
    " 5,  5, 10, 25, 25, 10,  5,  5,\n",
    "10, 10, 20, 30, 30, 20, 10, 10,\n",
    "50, 50, 50, 50, 50, 50, 50, 50,\n",
    " 0,  0,  0,  0,  0,  0,  0,  0]\n",
    "\n",
    "knightstable = [\n",
    "-50,-40,-30,-30,-30,-30,-40,-50,\n",
    "-40,-20,  0,  5,  5,  0,-20,-40,\n",
    "-30,  5, 10, 15, 15, 10,  5,-30,\n",
    "-30,  0, 15, 20, 20, 15,  0,-30,\n",
    "-30,  5, 15, 20, 20, 15,  5,-30,\n",
    "-30,  0, 10, 15, 15, 10,  0,-30,\n",
    "-40,-20,  0,  0,  0,  0,-20,-40,\n",
    "-50,-40,-30,-30,-30,-30,-40,-50]\n",
    "\n",
    "bishopstable = [\n",
    "-20,-10,-10,-10,-10,-10,-10,-20,\n",
    "-10,  5,  0,  0,  0,  0,  5,-10,\n",
    "-10, 10, 10, 10, 10, 10, 10,-10,\n",
    "-10,  0, 10, 10, 10, 10,  0,-10,\n",
    "-10,  5,  5, 10, 10,  5,  5,-10,\n",
    "-10,  0,  5, 10, 10,  5,  0,-10,\n",
    "-10,  0,  0,  0,  0,  0,  0,-10,\n",
    "-20,-10,-10,-10,-10,-10,-10,-20]\n",
    "\n",
    "rookstable = [\n",
    "  0,  0,  0,  5,  5,  0,  0,  0,\n",
    " -5,  0,  0,  0,  0,  0,  0, -5,\n",
    " -5,  0,  0,  0,  0,  0,  0, -5,\n",
    " -5,  0,  0,  0,  0,  0,  0, -5,\n",
    " -5,  0,  0,  0,  0,  0,  0, -5,\n",
    " -5,  0,  0,  0,  0,  0,  0, -5,\n",
    "  5, 10, 10, 10, 10, 10, 10,  5,\n",
    " 0,  0,  0,  0,  0,  0,  0,  0]\n",
    "\n",
    "queenstable = [\n",
    "-20,-10,-10, -5, -5,-10,-10,-20,\n",
    "-10,  0,  0,  0,  0,  0,  0,-10,\n",
    "-10,  5,  5,  5,  5,  5,  0,-10,\n",
    "  0,  0,  5,  5,  5,  5,  0, -5,\n",
    " -5,  0,  5,  5,  5,  5,  0, -5,\n",
    "-10,  0,  5,  5,  5,  5,  0,-10,\n",
    "-10,  0,  0,  0,  0,  0,  0,-10,\n",
    "-20,-10,-10, -5, -5,-10,-10,-20]\n",
    "\n",
    "kingstable = [\n",
    " 20, 30, 10,  0,  0, 10, 30, 20,\n",
    " 20, 20,  0,  0,  0,  0, 20, 20,\n",
    "-10,-20,-20,-20,-20,-20,-20,-10,\n",
    "-20,-30,-30,-40,-40,-30,-30,-20,\n",
    "-30,-40,-40,-50,-50,-40,-40,-30,\n",
    "-30,-40,-40,-50,-50,-40,-40,-30,\n",
    "-30,-40,-40,-50,-50,-40,-40,-30,\n",
    "-30,-40,-40,-50,-50,-40,-40,-30]"
   ]
  },
  {
   "cell_type": "markdown",
   "metadata": {},
   "source": [
    "Calculating who is ahead using material advantage and piece placement"
   ]
  },
  {
   "cell_type": "code",
   "execution_count": 2027,
   "metadata": {},
   "outputs": [],
   "source": [
    "def calc_eval(bor): #only works for white, as evals board regardless of player's turn\n",
    "\n",
    "    wp = len(bor.pieces(chess.PAWN, chess.WHITE))\n",
    "    bp = len(bor.pieces(chess.PAWN, chess.BLACK))\n",
    "    wn = len(bor.pieces(chess.KNIGHT, chess.WHITE))\n",
    "    bn = len(bor.pieces(chess.KNIGHT, chess.BLACK))\n",
    "    wb = len(bor.pieces(chess.BISHOP, chess.WHITE))\n",
    "    bb = len(bor.pieces(chess.BISHOP, chess.BLACK))\n",
    "    wr = len(bor.pieces(chess.ROOK, chess.WHITE))\n",
    "    br = len(bor.pieces(chess.ROOK, chess.BLACK))\n",
    "    wq = len(bor.pieces(chess.QUEEN, chess.WHITE))\n",
    "    bq = len(bor.pieces(chess.QUEEN, chess.BLACK))\n",
    "    \n",
    "    material = 100*(wp-bp)+320*(wn-bn)+330*(wb-bb)+500*(wr-br)+900*(wq-bq)\n",
    "    \n",
    "    # at the start this will be, let's say, 30. so returned would be -30???\n",
    "            \n",
    "    ############\n",
    "    #now we get to the juice\n",
    "    ############\n",
    "    \n",
    "    \n",
    "    \n",
    "    pawnsq = sum([pawntable[i] for i in board.pieces(chess.PAWN, chess.WHITE)])\n",
    "    pawnsq = pawnsq + sum([-pawntable[chess.square_mirror(i)] \n",
    "                                    for i in board.pieces(chess.PAWN, chess.BLACK)])\n",
    "    knightsq = sum([knightstable[i] for i in board.pieces(chess.KNIGHT, chess.WHITE)])\n",
    "    knightsq = knightsq + sum([-knightstable[chess.square_mirror(i)] \n",
    "                                    for i in board.pieces(chess.KNIGHT, chess.BLACK)])\n",
    "    bishopsq= sum([bishopstable[i] for i in board.pieces(chess.BISHOP, chess.WHITE)])\n",
    "    bishopsq= bishopsq + sum([-bishopstable[chess.square_mirror(i)] \n",
    "                                    for i in board.pieces(chess.BISHOP, chess.BLACK)])\n",
    "    rooksq = sum([rookstable[i] for i in board.pieces(chess.ROOK, chess.WHITE)]) \n",
    "    rooksq = rooksq + sum([-rookstable[chess.square_mirror(i)] \n",
    "                                    for i in board.pieces(chess.ROOK, chess.BLACK)])\n",
    "    queensq = sum([queenstable[i] for i in board.pieces(chess.QUEEN, chess.WHITE)]) \n",
    "    queensq = queensq + sum([-queenstable[chess.square_mirror(i)] \n",
    "                                    for i in board.pieces(chess.QUEEN, chess.BLACK)])\n",
    "    kingsq = sum([kingstable[i] for i in board.pieces(chess.KING, chess.WHITE)]) \n",
    "    kingsq = kingsq + sum([-kingstable[chess.square_mirror(i)] \n",
    "                                    for i in board.pieces(chess.KING, chess.BLACK)])\n",
    "    \n",
    "    boardvalue = material + pawnsq + knightsq + bishopsq + rooksq + queensq + kingsq\n",
    "    \n",
    "    return boardvalue"
   ]
  },
  {
   "cell_type": "markdown",
   "metadata": {},
   "source": [
    "Below, we are giving **bonuses** to the side that is *their turn*. We are doing this by seeing if there is a draw or checkmate."
   ]
  },
  {
   "cell_type": "code",
   "execution_count": 2028,
   "metadata": {},
   "outputs": [],
   "source": [
    "def evaluate_board(bor):\n",
    "    \n",
    "    if bor.is_checkmate():\n",
    "        if bor.turn:\n",
    "            return -9999\n",
    "        else:\n",
    "            return 9999\n",
    "    if bor.is_stalemate():\n",
    "        return 0\n",
    "    if bor.is_insufficient_material():\n",
    "        return 0\n",
    "    \n",
    "    eval = calc_eval(bor)\n",
    "    if bor.turn:\n",
    "        return eval\n",
    "    else:\n",
    "        return -eval"
   ]
  },
  {
   "cell_type": "markdown",
   "metadata": {},
   "source": [
    "I will now be running tests on various calc_evals and seeing what the response is. The tests will be done on example.pgn\n",
    "\n",
    "1. 31 000 games - 4 ply - 9 seconds - completely standard, only materials\n",
    "2. 30 000 games - 4 ply - 8.5 seconds - B > N, B + N > R + P (adjusted values)\n",
    "3. 15 000 games - 4 ply - 3.98 seconds - adding piece placement rewards\n",
    "4. 15 000 games - 4 ply - 3.90 seconds - no shuffling -> learned that shuffling is worth it\n",
    "\n",
    "∞. unknown - 4 ply - unknown - create cache ??"
   ]
  },
  {
   "cell_type": "code",
   "execution_count": 2029,
   "metadata": {},
   "outputs": [
    {
     "name": "stdout",
     "output_type": "stream",
     "text": [
      "0.00801992416381836 seconds required\n",
      "With e7f8 the centipawn advantage is 655\n",
      "12 positions analyzed\n"
     ]
    },
    {
     "data": {
      "image/svg+xml": [
       "<svg xmlns=\"http://www.w3.org/2000/svg\" version=\"1.1\" xmlns:xlink=\"http://www.w3.org/1999/xlink\" viewBox=\"0 0 400 400\" width=\"400\" height=\"400\"><defs><g id=\"white-pawn\" class=\"white pawn\"><path d=\"M22 9c-2.21 0-4 1.79-4 4 0 .89.29 1.71.78 2.38-1.95 1.12-3.28 3.21-3.28 5.62 0 2.03.94 3.84 2.41 5.03-3 1.06-7.41 5.55-7.41 13.47h23c0-7.92-4.41-12.41-7.41-13.47 1.47-1.19 2.41-3 2.41-5.03 0-2.41-1.33-4.5-3.28-5.62.49-.67.78-1.49.78-2.38 0-2.21-1.79-4-4-4z\" fill=\"#fff\" stroke=\"#000\" stroke-width=\"1.5\" stroke-linecap=\"round\" /></g><g id=\"white-bishop\" class=\"white bishop\" fill=\"none\" fill-rule=\"evenodd\" stroke=\"#000\" stroke-width=\"1.5\" stroke-linecap=\"round\" stroke-linejoin=\"round\"><g fill=\"#fff\" stroke-linecap=\"butt\"><path d=\"M9 36c3.39-.97 10.11.43 13.5-2 3.39 2.43 10.11 1.03 13.5 2 0 0 1.65.54 3 2-.68.97-1.65.99-3 .5-3.39-.97-10.11.46-13.5-1-3.39 1.46-10.11.03-13.5 1-1.354.49-2.323.47-3-.5 1.354-1.94 3-2 3-2zM15 32c2.5 2.5 12.5 2.5 15 0 .5-1.5 0-2 0-2 0-2.5-2.5-4-2.5-4 5.5-1.5 6-11.5-5-15.5-11 4-10.5 14-5 15.5 0 0-2.5 1.5-2.5 4 0 0-.5.5 0 2zM25 8a2.5 2.5 0 1 1-5 0 2.5 2.5 0 1 1 5 0z\" /></g><path d=\"M17.5 26h10M15 30h15m-7.5-14.5v5M20 18h5\" stroke-linejoin=\"miter\" /></g><g id=\"white-king\" class=\"white king\" fill=\"none\" fill-rule=\"evenodd\" stroke=\"#000\" stroke-width=\"1.5\" stroke-linecap=\"round\" stroke-linejoin=\"round\"><path d=\"M22.5 11.63V6M20 8h5\" stroke-linejoin=\"miter\" /><path d=\"M22.5 25s4.5-7.5 3-10.5c0 0-1-2.5-3-2.5s-3 2.5-3 2.5c-1.5 3 3 10.5 3 10.5\" fill=\"#fff\" stroke-linecap=\"butt\" stroke-linejoin=\"miter\" /><path d=\"M11.5 37c5.5 3.5 15.5 3.5 21 0v-7s9-4.5 6-10.5c-4-6.5-13.5-3.5-16 4V27v-3.5c-3.5-7.5-13-10.5-16-4-3 6 5 10 5 10V37z\" fill=\"#fff\" /><path d=\"M11.5 30c5.5-3 15.5-3 21 0m-21 3.5c5.5-3 15.5-3 21 0m-21 3.5c5.5-3 15.5-3 21 0\" /></g><g id=\"black-pawn\" class=\"black pawn\"><path d=\"M22 9c-2.21 0-4 1.79-4 4 0 .89.29 1.71.78 2.38-1.95 1.12-3.28 3.21-3.28 5.62 0 2.03.94 3.84 2.41 5.03-3 1.06-7.41 5.55-7.41 13.47h23c0-7.92-4.41-12.41-7.41-13.47 1.47-1.19 2.41-3 2.41-5.03 0-2.41-1.33-4.5-3.28-5.62.49-.67.78-1.49.78-2.38 0-2.21-1.79-4-4-4z\" stroke=\"#000\" stroke-width=\"1.5\" stroke-linecap=\"round\" /></g><g id=\"black-bishop\" class=\"black bishop\" fill=\"none\" fill-rule=\"evenodd\" stroke=\"#000\" stroke-width=\"1.5\" stroke-linecap=\"round\" stroke-linejoin=\"round\"><path d=\"M9 36c3.39-.97 10.11.43 13.5-2 3.39 2.43 10.11 1.03 13.5 2 0 0 1.65.54 3 2-.68.97-1.65.99-3 .5-3.39-.97-10.11.46-13.5-1-3.39 1.46-10.11.03-13.5 1-1.354.49-2.323.47-3-.5 1.354-1.94 3-2 3-2zm6-4c2.5 2.5 12.5 2.5 15 0 .5-1.5 0-2 0-2 0-2.5-2.5-4-2.5-4 5.5-1.5 6-11.5-5-15.5-11 4-10.5 14-5 15.5 0 0-2.5 1.5-2.5 4 0 0-.5.5 0 2zM25 8a2.5 2.5 0 1 1-5 0 2.5 2.5 0 1 1 5 0z\" fill=\"#000\" stroke-linecap=\"butt\" /><path d=\"M17.5 26h10M15 30h15m-7.5-14.5v5M20 18h5\" stroke=\"#fff\" stroke-linejoin=\"miter\" /></g><g id=\"black-rook\" class=\"black rook\" fill=\"#000\" fill-rule=\"evenodd\" stroke=\"#000\" stroke-width=\"1.5\" stroke-linecap=\"round\" stroke-linejoin=\"round\"><path d=\"M9 39h27v-3H9v3zM12.5 32l1.5-2.5h17l1.5 2.5h-20zM12 36v-4h21v4H12z\" stroke-linecap=\"butt\" /><path d=\"M14 29.5v-13h17v13H14z\" stroke-linecap=\"butt\" stroke-linejoin=\"miter\" /><path d=\"M14 16.5L11 14h23l-3 2.5H14zM11 14V9h4v2h5V9h5v2h5V9h4v5H11z\" stroke-linecap=\"butt\" /><path d=\"M12 35.5h21M13 31.5h19M14 29.5h17M14 16.5h17M11 14h23\" fill=\"none\" stroke=\"#fff\" stroke-width=\"1\" stroke-linejoin=\"miter\" /></g><g id=\"black-king\" class=\"black king\" fill=\"none\" fill-rule=\"evenodd\" stroke=\"#000\" stroke-width=\"1.5\" stroke-linecap=\"round\" stroke-linejoin=\"round\"><path d=\"M22.5 11.63V6\" stroke-linejoin=\"miter\" /><path d=\"M22.5 25s4.5-7.5 3-10.5c0 0-1-2.5-3-2.5s-3 2.5-3 2.5c-1.5 3 3 10.5 3 10.5\" fill=\"#000\" stroke-linecap=\"butt\" stroke-linejoin=\"miter\" /><path d=\"M11.5 37c5.5 3.5 15.5 3.5 21 0v-7s9-4.5 6-10.5c-4-6.5-13.5-3.5-16 4V27v-3.5c-3.5-7.5-13-10.5-16-4-3 6 5 10 5 10V37z\" fill=\"#000\" /><path d=\"M20 8h5\" stroke-linejoin=\"miter\" /><path d=\"M32 29.5s8.5-4 6.03-9.65C34.15 14 25 18 22.5 24.5l.01 2.1-.01-2.1C20 18 9.906 14 6.997 19.85c-2.497 5.65 4.853 9 4.853 9M11.5 30c5.5-3 15.5-3 21 0m-21 3.5c5.5-3 15.5-3 21 0m-21 3.5c5.5-3 15.5-3 21 0\" stroke=\"#fff\" /></g></defs><rect x=\"20\" y=\"335\" width=\"45\" height=\"45\" class=\"square dark a1\" stroke=\"none\" fill=\"#d18b47\" /><rect x=\"65\" y=\"335\" width=\"45\" height=\"45\" class=\"square light b1\" stroke=\"none\" fill=\"#ffce9e\" /><rect x=\"110\" y=\"335\" width=\"45\" height=\"45\" class=\"square dark c1\" stroke=\"none\" fill=\"#d18b47\" /><rect x=\"155\" y=\"335\" width=\"45\" height=\"45\" class=\"square light d1\" stroke=\"none\" fill=\"#ffce9e\" /><rect x=\"200\" y=\"335\" width=\"45\" height=\"45\" class=\"square dark e1\" stroke=\"none\" fill=\"#d18b47\" /><rect x=\"245\" y=\"335\" width=\"45\" height=\"45\" class=\"square light f1\" stroke=\"none\" fill=\"#ffce9e\" /><use xlink:href=\"#white-king\" transform=\"translate(245, 335)\" /><rect x=\"290\" y=\"335\" width=\"45\" height=\"45\" class=\"square dark g1\" stroke=\"none\" fill=\"#d18b47\" /><rect x=\"335\" y=\"335\" width=\"45\" height=\"45\" class=\"square light h1\" stroke=\"none\" fill=\"#ffce9e\" /><rect x=\"20\" y=\"290\" width=\"45\" height=\"45\" class=\"square light a2\" stroke=\"none\" fill=\"#ffce9e\" /><rect x=\"65\" y=\"290\" width=\"45\" height=\"45\" class=\"square dark b2\" stroke=\"none\" fill=\"#d18b47\" /><rect x=\"110\" y=\"290\" width=\"45\" height=\"45\" class=\"square light c2\" stroke=\"none\" fill=\"#ffce9e\" /><rect x=\"155\" y=\"290\" width=\"45\" height=\"45\" class=\"square dark d2\" stroke=\"none\" fill=\"#d18b47\" /><use xlink:href=\"#black-rook\" transform=\"translate(155, 290)\" /><rect x=\"200\" y=\"290\" width=\"45\" height=\"45\" class=\"square light e2\" stroke=\"none\" fill=\"#ffce9e\" /><rect x=\"245\" y=\"290\" width=\"45\" height=\"45\" class=\"square dark f2\" stroke=\"none\" fill=\"#d18b47\" /><rect x=\"290\" y=\"290\" width=\"45\" height=\"45\" class=\"square light g2\" stroke=\"none\" fill=\"#ffce9e\" /><rect x=\"335\" y=\"290\" width=\"45\" height=\"45\" class=\"square dark h2\" stroke=\"none\" fill=\"#d18b47\" /><rect x=\"20\" y=\"245\" width=\"45\" height=\"45\" class=\"square dark a3\" stroke=\"none\" fill=\"#d18b47\" /><rect x=\"65\" y=\"245\" width=\"45\" height=\"45\" class=\"square light b3\" stroke=\"none\" fill=\"#ffce9e\" /><rect x=\"110\" y=\"245\" width=\"45\" height=\"45\" class=\"square dark c3\" stroke=\"none\" fill=\"#d18b47\" /><rect x=\"155\" y=\"245\" width=\"45\" height=\"45\" class=\"square light d3\" stroke=\"none\" fill=\"#ffce9e\" /><rect x=\"200\" y=\"245\" width=\"45\" height=\"45\" class=\"square dark e3\" stroke=\"none\" fill=\"#d18b47\" /><rect x=\"245\" y=\"245\" width=\"45\" height=\"45\" class=\"square light f3\" stroke=\"none\" fill=\"#ffce9e\" /><rect x=\"290\" y=\"245\" width=\"45\" height=\"45\" class=\"square dark g3\" stroke=\"none\" fill=\"#d18b47\" /><use xlink:href=\"#white-pawn\" transform=\"translate(290, 245)\" /><rect x=\"335\" y=\"245\" width=\"45\" height=\"45\" class=\"square light h3\" stroke=\"none\" fill=\"#ffce9e\" /><use xlink:href=\"#white-pawn\" transform=\"translate(335, 245)\" /><rect x=\"20\" y=\"200\" width=\"45\" height=\"45\" class=\"square light a4\" stroke=\"none\" fill=\"#ffce9e\" /><use xlink:href=\"#black-pawn\" transform=\"translate(20, 200)\" /><rect x=\"65\" y=\"200\" width=\"45\" height=\"45\" class=\"square dark b4\" stroke=\"none\" fill=\"#d18b47\" /><rect x=\"110\" y=\"200\" width=\"45\" height=\"45\" class=\"square light c4\" stroke=\"none\" fill=\"#ffce9e\" /><rect x=\"155\" y=\"200\" width=\"45\" height=\"45\" class=\"square dark d4\" stroke=\"none\" fill=\"#d18b47\" /><rect x=\"200\" y=\"200\" width=\"45\" height=\"45\" class=\"square light e4\" stroke=\"none\" fill=\"#ffce9e\" /><rect x=\"245\" y=\"200\" width=\"45\" height=\"45\" class=\"square dark f4\" stroke=\"none\" fill=\"#d18b47\" /><use xlink:href=\"#white-pawn\" transform=\"translate(245, 200)\" /><rect x=\"290\" y=\"200\" width=\"45\" height=\"45\" class=\"square light g4\" stroke=\"none\" fill=\"#ffce9e\" /><rect x=\"335\" y=\"200\" width=\"45\" height=\"45\" class=\"square dark h4\" stroke=\"none\" fill=\"#d18b47\" /><rect x=\"20\" y=\"155\" width=\"45\" height=\"45\" class=\"square dark a5\" stroke=\"none\" fill=\"#d18b47\" /><rect x=\"65\" y=\"155\" width=\"45\" height=\"45\" class=\"square light b5\" stroke=\"none\" fill=\"#ffce9e\" /><rect x=\"110\" y=\"155\" width=\"45\" height=\"45\" class=\"square dark c5\" stroke=\"none\" fill=\"#d18b47\" /><rect x=\"155\" y=\"155\" width=\"45\" height=\"45\" class=\"square light d5\" stroke=\"none\" fill=\"#ffce9e\" /><rect x=\"200\" y=\"155\" width=\"45\" height=\"45\" class=\"square dark e5\" stroke=\"none\" fill=\"#d18b47\" /><rect x=\"245\" y=\"155\" width=\"45\" height=\"45\" class=\"square light f5\" stroke=\"none\" fill=\"#ffce9e\" /><use xlink:href=\"#black-pawn\" transform=\"translate(245, 155)\" /><rect x=\"290\" y=\"155\" width=\"45\" height=\"45\" class=\"square dark g5\" stroke=\"none\" fill=\"#d18b47\" /><rect x=\"335\" y=\"155\" width=\"45\" height=\"45\" class=\"square light h5\" stroke=\"none\" fill=\"#ffce9e\" /><rect x=\"20\" y=\"110\" width=\"45\" height=\"45\" class=\"square light a6\" stroke=\"none\" fill=\"#ffce9e\" /><rect x=\"65\" y=\"110\" width=\"45\" height=\"45\" class=\"square dark b6\" stroke=\"none\" fill=\"#d18b47\" /><use xlink:href=\"#black-bishop\" transform=\"translate(65, 110)\" /><rect x=\"110\" y=\"110\" width=\"45\" height=\"45\" class=\"square light c6\" stroke=\"none\" fill=\"#ffce9e\" /><rect x=\"155\" y=\"110\" width=\"45\" height=\"45\" class=\"square dark d6\" stroke=\"none\" fill=\"#d18b47\" /><rect x=\"200\" y=\"110\" width=\"45\" height=\"45\" class=\"square light e6\" stroke=\"none\" fill=\"#ffce9e\" /><rect x=\"245\" y=\"110\" width=\"45\" height=\"45\" class=\"square dark f6\" stroke=\"none\" fill=\"#d18b47\" /><rect x=\"290\" y=\"110\" width=\"45\" height=\"45\" class=\"square light g6\" stroke=\"none\" fill=\"#ffce9e\" /><use xlink:href=\"#black-pawn\" transform=\"translate(290, 110)\" /><rect x=\"335\" y=\"110\" width=\"45\" height=\"45\" class=\"square dark h6\" stroke=\"none\" fill=\"#d18b47\" /><rect x=\"20\" y=\"65\" width=\"45\" height=\"45\" class=\"square dark a7\" stroke=\"none\" fill=\"#d18b47\" /><rect x=\"65\" y=\"65\" width=\"45\" height=\"45\" class=\"square light b7\" stroke=\"none\" fill=\"#ffce9e\" /><rect x=\"110\" y=\"65\" width=\"45\" height=\"45\" class=\"square dark c7\" stroke=\"none\" fill=\"#d18b47\" /><rect x=\"155\" y=\"65\" width=\"45\" height=\"45\" class=\"square light d7\" stroke=\"none\" fill=\"#ffce9e\" /><rect x=\"200\" y=\"65\" width=\"45\" height=\"45\" class=\"square dark lastmove e7\" stroke=\"none\" fill=\"#aaa23b\" /><rect x=\"245\" y=\"65\" width=\"45\" height=\"45\" class=\"square light f7\" stroke=\"none\" fill=\"#ffce9e\" /><rect x=\"290\" y=\"65\" width=\"45\" height=\"45\" class=\"square dark g7\" stroke=\"none\" fill=\"#d18b47\" /><rect x=\"335\" y=\"65\" width=\"45\" height=\"45\" class=\"square light h7\" stroke=\"none\" fill=\"#ffce9e\" /><use xlink:href=\"#black-pawn\" transform=\"translate(335, 65)\" /><rect x=\"20\" y=\"20\" width=\"45\" height=\"45\" class=\"square light a8\" stroke=\"none\" fill=\"#ffce9e\" /><rect x=\"65\" y=\"20\" width=\"45\" height=\"45\" class=\"square dark b8\" stroke=\"none\" fill=\"#d18b47\" /><rect x=\"110\" y=\"20\" width=\"45\" height=\"45\" class=\"square light c8\" stroke=\"none\" fill=\"#ffce9e\" /><rect x=\"155\" y=\"20\" width=\"45\" height=\"45\" class=\"square dark d8\" stroke=\"none\" fill=\"#d18b47\" /><rect x=\"200\" y=\"20\" width=\"45\" height=\"45\" class=\"square light e8\" stroke=\"none\" fill=\"#ffce9e\" /><rect x=\"245\" y=\"20\" width=\"45\" height=\"45\" class=\"square dark lastmove f8\" stroke=\"none\" fill=\"#aaa23b\" /><use xlink:href=\"#white-bishop\" transform=\"translate(245, 20)\" /><rect x=\"290\" y=\"20\" width=\"45\" height=\"45\" class=\"square light g8\" stroke=\"none\" fill=\"#ffce9e\" /><use xlink:href=\"#black-king\" transform=\"translate(290, 20)\" /><rect x=\"335\" y=\"20\" width=\"45\" height=\"45\" class=\"square dark h8\" stroke=\"none\" fill=\"#d18b47\" /><text x=\"42\" y=\"10\" font-size=\"14\" text-anchor=\"middle\" alignment-baseline=\"middle\">a</text><text x=\"42\" y=\"390\" font-size=\"14\" text-anchor=\"middle\" alignment-baseline=\"middle\">a</text><text x=\"87\" y=\"10\" font-size=\"14\" text-anchor=\"middle\" alignment-baseline=\"middle\">b</text><text x=\"87\" y=\"390\" font-size=\"14\" text-anchor=\"middle\" alignment-baseline=\"middle\">b</text><text x=\"132\" y=\"10\" font-size=\"14\" text-anchor=\"middle\" alignment-baseline=\"middle\">c</text><text x=\"132\" y=\"390\" font-size=\"14\" text-anchor=\"middle\" alignment-baseline=\"middle\">c</text><text x=\"177\" y=\"10\" font-size=\"14\" text-anchor=\"middle\" alignment-baseline=\"middle\">d</text><text x=\"177\" y=\"390\" font-size=\"14\" text-anchor=\"middle\" alignment-baseline=\"middle\">d</text><text x=\"222\" y=\"10\" font-size=\"14\" text-anchor=\"middle\" alignment-baseline=\"middle\">e</text><text x=\"222\" y=\"390\" font-size=\"14\" text-anchor=\"middle\" alignment-baseline=\"middle\">e</text><text x=\"267\" y=\"10\" font-size=\"14\" text-anchor=\"middle\" alignment-baseline=\"middle\">f</text><text x=\"267\" y=\"390\" font-size=\"14\" text-anchor=\"middle\" alignment-baseline=\"middle\">f</text><text x=\"312\" y=\"10\" font-size=\"14\" text-anchor=\"middle\" alignment-baseline=\"middle\">g</text><text x=\"312\" y=\"390\" font-size=\"14\" text-anchor=\"middle\" alignment-baseline=\"middle\">g</text><text x=\"357\" y=\"10\" font-size=\"14\" text-anchor=\"middle\" alignment-baseline=\"middle\">h</text><text x=\"357\" y=\"390\" font-size=\"14\" text-anchor=\"middle\" alignment-baseline=\"middle\">h</text><text x=\"10\" y=\"357\" font-size=\"14\" text-anchor=\"middle\" alignment-baseline=\"middle\">1</text><text x=\"390\" y=\"357\" font-size=\"14\" text-anchor=\"middle\" alignment-baseline=\"middle\">1</text><text x=\"10\" y=\"312\" font-size=\"14\" text-anchor=\"middle\" alignment-baseline=\"middle\">2</text><text x=\"390\" y=\"312\" font-size=\"14\" text-anchor=\"middle\" alignment-baseline=\"middle\">2</text><text x=\"10\" y=\"267\" font-size=\"14\" text-anchor=\"middle\" alignment-baseline=\"middle\">3</text><text x=\"390\" y=\"267\" font-size=\"14\" text-anchor=\"middle\" alignment-baseline=\"middle\">3</text><text x=\"10\" y=\"222\" font-size=\"14\" text-anchor=\"middle\" alignment-baseline=\"middle\">4</text><text x=\"390\" y=\"222\" font-size=\"14\" text-anchor=\"middle\" alignment-baseline=\"middle\">4</text><text x=\"10\" y=\"177\" font-size=\"14\" text-anchor=\"middle\" alignment-baseline=\"middle\">5</text><text x=\"390\" y=\"177\" font-size=\"14\" text-anchor=\"middle\" alignment-baseline=\"middle\">5</text><text x=\"10\" y=\"132\" font-size=\"14\" text-anchor=\"middle\" alignment-baseline=\"middle\">6</text><text x=\"390\" y=\"132\" font-size=\"14\" text-anchor=\"middle\" alignment-baseline=\"middle\">6</text><text x=\"10\" y=\"87\" font-size=\"14\" text-anchor=\"middle\" alignment-baseline=\"middle\">7</text><text x=\"390\" y=\"87\" font-size=\"14\" text-anchor=\"middle\" alignment-baseline=\"middle\">7</text><text x=\"10\" y=\"42\" font-size=\"14\" text-anchor=\"middle\" alignment-baseline=\"middle\">8</text><text x=\"390\" y=\"42\" font-size=\"14\" text-anchor=\"middle\" alignment-baseline=\"middle\">8</text></svg>"
      ],
      "text/plain": [
       "Board('5Bk1/7p/1b4p1/5p2/p4P2/6PP/3r4/5K2 b - - 1 37')"
      ]
     },
     "execution_count": 2029,
     "metadata": {},
     "output_type": "execute_result"
    }
   ],
   "source": [
    "fg = open('example.pgn')\n",
    "fg = chess.pgn.read_game(fg)\n",
    "\n",
    "board = chess.Board()\n",
    "for move in fg.mainline_moves():\n",
    "    board.push(move)\n",
    "    \n",
    "pose = 0\n",
    "t0 = time.time()\n",
    "_, picked = minimax(board, 1, board.turn, -float(\"Inf\"), float(\"Inf\"))\n",
    "t1 = time.time()\n",
    "print(t1-t0, \"seconds required\")\n",
    "print(\"With\", picked, \"the centipawn advantage is\", _)\n",
    "board.push(picked)\n",
    "print(pose, \"positions analyzed\")\n",
    "board"
   ]
  },
  {
   "cell_type": "markdown",
   "metadata": {},
   "source": [
    "# Preparing the Game"
   ]
  },
  {
   "cell_type": "code",
   "execution_count": 2030,
   "metadata": {
    "scrolled": false
   },
   "outputs": [],
   "source": [
    "def who():\n",
    "    color = input(\"What color would you like to be?\\n\")\n",
    "    color = color.lower()\n",
    "    if color == 'white':\n",
    "        turn = True\n",
    "    elif color == 'black':\n",
    "        turn = False\n",
    "\n",
    "    return turn, turn"
   ]
  },
  {
   "cell_type": "code",
   "execution_count": 2031,
   "metadata": {
    "scrolled": false
   },
   "outputs": [],
   "source": [
    "def make_movement():\n",
    "    movement = input(\"Make your move, SAN notation please\\n\")\n",
    "    board.push_san(movement)\n",
    "    return movement"
   ]
  },
  {
   "cell_type": "markdown",
   "metadata": {},
   "source": [
    "# Minimax"
   ]
  },
  {
   "cell_type": "code",
   "execution_count": 2032,
   "metadata": {
    "scrolled": false
   },
   "outputs": [],
   "source": [
    "from functools import lru_cache\n",
    "borrs = {}\n",
    "\n",
    "def minimax(board, depth, maximizing_player, alpha, beta): #table is board\n",
    "    global pose\n",
    "    children = list(board.legal_moves) #find all possible moves from certain position\n",
    "\n",
    "    if depth == 0 or board.is_game_over(): #don't go deeper if game over/depth ended\n",
    "        return evaluate_board(board), None #calc-eval finds piece-values on board and adds them up. e.g. two pawns would be 2 points\n",
    "\n",
    "    if maximizing_player == True:\n",
    "        best_value = -float(\"Inf\")\n",
    "    else:\n",
    "        print('it is black')\n",
    "        best_value = float(\"Inf\")\n",
    "        \n",
    "    random.shuffle(children) #MUST shuffle to prevent same move from happening over and over again each game\n",
    "\n",
    "    for child in children:\n",
    "        pose += 1\n",
    "        board.push(child) #copy board and change it by moving the child move\n",
    "        new_val = minimax(board, depth - 1, not maximizing_player, alpha, beta)[0] #recursively find value\n",
    "        board.pop()\n",
    "        if maximizing_player == True and new_val > best_value:\n",
    "            best_value = new_val\n",
    "            best_move = child\n",
    "            alpha = max(alpha, best_value)\n",
    "        if maximizing_player == False and new_val < best_value:\n",
    "            best_value = new_val\n",
    "            best_move = child\n",
    "            beta = min(beta, best_value)\n",
    "        if alpha > beta:\n",
    "            break\n",
    "\n",
    "    return best_value, best_move"
   ]
  },
  {
   "cell_type": "markdown",
   "metadata": {},
   "source": [
    "### Implementing Hashing\n",
    "\n",
    "We will use a random hash number for each position on the board, and put that in a dictionary with the corresponding depth and calc_eval."
   ]
  },
  {
   "cell_type": "code",
   "execution_count": 2033,
   "metadata": {},
   "outputs": [
    {
     "data": {
      "text/plain": [
       "5060803636482931868"
      ]
     },
     "execution_count": 2033,
     "metadata": {},
     "output_type": "execute_result"
    }
   ],
   "source": [
    "import chess.polyglot\n",
    "\n",
    "board = chess.Board()\n",
    "chess.polyglot.zobrist_hash(board = board)"
   ]
  },
  {
   "cell_type": "markdown",
   "metadata": {},
   "source": [
    "Below we see how *efficient* the functions are. How many operations can be performed per second."
   ]
  },
  {
   "cell_type": "code",
   "execution_count": 2034,
   "metadata": {},
   "outputs": [
    {
     "name": "stdout",
     "output_type": "stream",
     "text": [
      "3068.2545720555963\n"
     ]
    }
   ],
   "source": [
    "board = chess.Board()\n",
    "t0 = time.time()\n",
    "board.push_san('e2e4')\n",
    "calc_eval(board)\n",
    "t1 = time.time()\n",
    "board.pop()\n",
    "print(1/(t1-t0))"
   ]
  },
  {
   "cell_type": "markdown",
   "metadata": {},
   "source": [
    "Below, we are trying to prove that our minimax function is indeed analyzing every possible move. After running, we can see that it is (keep in mind that `positions_evaluated` will count the first 20 as well as the second 400, otherwise it would be only 8000 after 3."
   ]
  },
  {
   "cell_type": "code",
   "execution_count": 2035,
   "metadata": {
    "scrolled": false
   },
   "outputs": [],
   "source": [
    "def running(): #will need to modify this for pruned decision-tree making -> consult codecademy\n",
    "    moves = list(board.legal_moves) #just using it rn for putting random bot vs smart bot\n",
    "    chosen = random.randint(0, len(moves)-1) #form tree here, choose best option -> very simple with sklearn\n",
    "    board.push_san(board.san(moves[chosen]))\n",
    "    return moves[chosen]"
   ]
  },
  {
   "cell_type": "code",
   "execution_count": 2036,
   "metadata": {
    "scrolled": false
   },
   "outputs": [],
   "source": [
    "def display_board():\n",
    "    return board._repr_svg_()"
   ]
  },
  {
   "cell_type": "markdown",
   "metadata": {},
   "source": [
    "# Game Styles"
   ]
  },
  {
   "cell_type": "code",
   "execution_count": 2037,
   "metadata": {},
   "outputs": [],
   "source": [
    "def two_humans(pause = 0.1, visual = 'svg'):  #see above\n",
    "    use_svg = (visual == \"svg\")\n",
    "    \n",
    "    color = 'white'\n",
    "        \n",
    "    board_stop = display_board()\n",
    "    html = \"<center><b>Move %s Player %s, Plays '%s':</b><center/><br/>%s\" % (\n",
    "                           len(board.move_stack), color, \"Nothing Yet\", board_stop)\n",
    "        \n",
    "    if visual is not None:\n",
    "            if visual == \"svg\":\n",
    "                clear_output(wait=True)\n",
    "            display(HTML(html))\n",
    "            if visual == \"svg\":\n",
    "                time.sleep(pause)\n",
    "        \n",
    "    while evaluate() not in enders:\n",
    "        picked = make_movement()\n",
    "        board_stop = display_board()\n",
    "        \n",
    "        if len(board.move_stack)%2 == 0:\n",
    "            color = 'white'\n",
    "        else:\n",
    "            color = 'black'\n",
    "        \n",
    "        html = \"<center><b>Move %s Player %s, Plays '%s':</b><center/><br/>%s\" % (\n",
    "                       len(board.move_stack), color, picked, board_stop)\n",
    "        \n",
    "        if visual is not None:\n",
    "            if visual == \"svg\":\n",
    "                clear_output(wait=True)\n",
    "            display(HTML(html))\n",
    "            if visual == \"svg\":\n",
    "                time.sleep(pause)\n",
    "    print('Reason for end of game is: ', evaluate())\n",
    "    return board"
   ]
  },
  {
   "cell_type": "code",
   "execution_count": 2038,
   "metadata": {},
   "outputs": [],
   "source": [
    "def human(pause = 0.1, visual = 'svg'):\n",
    "    use_svg = (visual == \"svg\")\n",
    "    turn, other_turn = who()\n",
    "    if turn == True:\n",
    "        color = 'black'\n",
    "    elif turn == False:\n",
    "        color = 'white'\n",
    "    \n",
    "        \n",
    "    board_stop = display_board()\n",
    "    html = \"<center><b>Move %s Player %s, Plays '%s':</b><center/><br/>%s\" % (\n",
    "                           len(board.move_stack), color, \"Nothing Yet\", board_stop)\n",
    "        \n",
    "    if visual is not None:\n",
    "            if visual == \"svg\":\n",
    "                clear_output(wait=True)\n",
    "            display(HTML(html))\n",
    "            if visual == \"svg\":\n",
    "                time.sleep(pause)\n",
    "        \n",
    "    while evaluate() not in enders:\n",
    "        if color == 'white':\n",
    "            color = 'black'\n",
    "        else:\n",
    "            color = 'white'\n",
    "        \n",
    "        if other_turn == True:\n",
    "            picked = make_movement()\n",
    "            board_stop = display_board()\n",
    "            other_turn = False\n",
    "            html = \"<center><b>Move %s Player %s, Plays '%s':</b><center/><br/>%s\" % (\n",
    "                           len(board.move_stack), color, picked, board_stop)\n",
    "            \n",
    "        elif other_turn == False:\n",
    "            _, picked = minimax(board, 2, board.turn, -float(\"Inf\"), float(\"Inf\"))\n",
    "            print(evaluate_board(board))\n",
    "            time.sleep(1)\n",
    "            board.push(picked)\n",
    "            board_stop = display_board()\n",
    "            other_turn = True\n",
    "            html = \"<center><b>Move %s Player %s, Play '%s':</b><center/><br/>%s\" % (\n",
    "                           len(board.move_stack), color, picked, board_stop)\n",
    "            \n",
    "        if visual is not None:\n",
    "            if visual == \"svg\":\n",
    "                clear_output(wait=True)\n",
    "            display(HTML(html))\n",
    "            if visual == \"svg\":\n",
    "                time.sleep(pause)\n",
    "    print('Reason for end of game is: ', evaluate())\n",
    "    return board"
   ]
  },
  {
   "cell_type": "code",
   "execution_count": 2039,
   "metadata": {},
   "outputs": [],
   "source": [
    "def two_computers(pause = 0.1, visual = 'svg'):\n",
    "    use_svg = (visual == \"svg\")\n",
    "    \n",
    "    color = None\n",
    "            \n",
    "    while evaluate() not in enders:\n",
    "        if len(board.move_stack)%2 == 0:\n",
    "            color = 'white'\n",
    "        else:\n",
    "            color = 'black'\n",
    "            \n",
    "        if color == 'white':\n",
    "            _, picked = minimax(board, 4, board.turn, -float(\"Inf\"), float(\"Inf\")) #one smart computer\n",
    "            board.push(picked)\n",
    "        else:\n",
    "            _, picked = minimax(board, 2, board.turn, -float(\"Inf\"), float(\"Inf\"))\n",
    "            board.push(picked)\n",
    "            \n",
    "        board_stop = display_board()\n",
    "        html = \"<center><b>Move %s Round %s Player %s, Plays '%s':</b><center/><br/>%s\" % (\n",
    "                       len(board.move_stack), int(len(board.move_stack)/2), color, picked, board_stop)\n",
    "            \n",
    "        if visual is not None:\n",
    "            if visual == \"svg\":\n",
    "                clear_output(wait=True)\n",
    "            display(HTML(html))\n",
    "            if visual == \"svg\":\n",
    "                time.sleep(pause)\n",
    "    print('Reason for end of game is: ', evaluate())\n",
    "    return board"
   ]
  },
  {
   "cell_type": "markdown",
   "metadata": {},
   "source": [
    "# Running the Game"
   ]
  },
  {
   "cell_type": "code",
   "execution_count": 2040,
   "metadata": {
    "scrolled": true
   },
   "outputs": [],
   "source": [
    "def play_game(query, pause = 1, visual = 'svg'):\n",
    "    use_svg = (visual == \"svg\")\n",
    "              \n",
    "    if query == 'human':\n",
    "        board = human()\n",
    "    elif query == 'two computers':\n",
    "        board = two_computers()\n",
    "    elif query == 'two humans':\n",
    "        board = two_humans()"
   ]
  },
  {
   "cell_type": "code",
   "execution_count": 2041,
   "metadata": {
    "scrolled": false
   },
   "outputs": [],
   "source": [
    "def main():\n",
    "    choice = input('Available playing options:\\n- human\\n- two humans\\n- two computers\\n')\n",
    "    play_game(choice)"
   ]
  },
  {
   "cell_type": "code",
   "execution_count": null,
   "metadata": {
    "scrolled": false
   },
   "outputs": [
    {
     "data": {
      "text/html": [
       "<center><b>Move 10 Player black, Play 'e8f7':</b><center/><br/><svg xmlns=\"http://www.w3.org/2000/svg\" version=\"1.1\" xmlns:xlink=\"http://www.w3.org/1999/xlink\" viewBox=\"0 0 400 400\" width=\"400\" height=\"400\"><defs><g id=\"white-pawn\" class=\"white pawn\"><path d=\"M22 9c-2.21 0-4 1.79-4 4 0 .89.29 1.71.78 2.38-1.95 1.12-3.28 3.21-3.28 5.62 0 2.03.94 3.84 2.41 5.03-3 1.06-7.41 5.55-7.41 13.47h23c0-7.92-4.41-12.41-7.41-13.47 1.47-1.19 2.41-3 2.41-5.03 0-2.41-1.33-4.5-3.28-5.62.49-.67.78-1.49.78-2.38 0-2.21-1.79-4-4-4z\" fill=\"#fff\" stroke=\"#000\" stroke-width=\"1.5\" stroke-linecap=\"round\" /></g><g id=\"white-knight\" class=\"white knight\" fill=\"none\" fill-rule=\"evenodd\" stroke=\"#000\" stroke-width=\"1.5\" stroke-linecap=\"round\" stroke-linejoin=\"round\"><path d=\"M 22,10 C 32.5,11 38.5,18 38,39 L 15,39 C 15,30 25,32.5 23,18\" style=\"fill:#ffffff; stroke:#000000;\" /><path d=\"M 24,18 C 24.38,20.91 18.45,25.37 16,27 C 13,29 13.18,31.34 11,31 C 9.958,30.06 12.41,27.96 11,28 C 10,28 11.19,29.23 10,30 C 9,30 5.997,31 6,26 C 6,24 12,14 12,14 C 12,14 13.89,12.1 14,10.5 C 13.27,9.506 13.5,8.5 13.5,7.5 C 14.5,6.5 16.5,10 16.5,10 L 18.5,10 C 18.5,10 19.28,8.008 21,7 C 22,7 22,10 22,10\" style=\"fill:#ffffff; stroke:#000000;\" /><path d=\"M 9.5 25.5 A 0.5 0.5 0 1 1 8.5,25.5 A 0.5 0.5 0 1 1 9.5 25.5 z\" style=\"fill:#000000; stroke:#000000;\" /><path d=\"M 15 15.5 A 0.5 1.5 0 1 1 14,15.5 A 0.5 1.5 0 1 1 15 15.5 z\" transform=\"matrix(0.866,0.5,-0.5,0.866,9.693,-5.173)\" style=\"fill:#000000; stroke:#000000;\" /></g><g id=\"white-bishop\" class=\"white bishop\" fill=\"none\" fill-rule=\"evenodd\" stroke=\"#000\" stroke-width=\"1.5\" stroke-linecap=\"round\" stroke-linejoin=\"round\"><g fill=\"#fff\" stroke-linecap=\"butt\"><path d=\"M9 36c3.39-.97 10.11.43 13.5-2 3.39 2.43 10.11 1.03 13.5 2 0 0 1.65.54 3 2-.68.97-1.65.99-3 .5-3.39-.97-10.11.46-13.5-1-3.39 1.46-10.11.03-13.5 1-1.354.49-2.323.47-3-.5 1.354-1.94 3-2 3-2zM15 32c2.5 2.5 12.5 2.5 15 0 .5-1.5 0-2 0-2 0-2.5-2.5-4-2.5-4 5.5-1.5 6-11.5-5-15.5-11 4-10.5 14-5 15.5 0 0-2.5 1.5-2.5 4 0 0-.5.5 0 2zM25 8a2.5 2.5 0 1 1-5 0 2.5 2.5 0 1 1 5 0z\" /></g><path d=\"M17.5 26h10M15 30h15m-7.5-14.5v5M20 18h5\" stroke-linejoin=\"miter\" /></g><g id=\"white-rook\" class=\"white rook\" fill=\"#fff\" fill-rule=\"evenodd\" stroke=\"#000\" stroke-width=\"1.5\" stroke-linecap=\"round\" stroke-linejoin=\"round\"><path d=\"M9 39h27v-3H9v3zM12 36v-4h21v4H12zM11 14V9h4v2h5V9h5v2h5V9h4v5\" stroke-linecap=\"butt\" /><path d=\"M34 14l-3 3H14l-3-3\" /><path d=\"M31 17v12.5H14V17\" stroke-linecap=\"butt\" stroke-linejoin=\"miter\" /><path d=\"M31 29.5l1.5 2.5h-20l1.5-2.5\" /><path d=\"M11 14h23\" fill=\"none\" stroke-linejoin=\"miter\" /></g><g id=\"white-queen\" class=\"white queen\" fill=\"#fff\" fill-rule=\"evenodd\" stroke=\"#000\" stroke-width=\"1.5\" stroke-linecap=\"round\" stroke-linejoin=\"round\"><path d=\"M8 12a2 2 0 1 1-4 0 2 2 0 1 1 4 0zM24.5 7.5a2 2 0 1 1-4 0 2 2 0 1 1 4 0zM41 12a2 2 0 1 1-4 0 2 2 0 1 1 4 0zM16 8.5a2 2 0 1 1-4 0 2 2 0 1 1 4 0zM33 9a2 2 0 1 1-4 0 2 2 0 1 1 4 0z\" /><path d=\"M9 26c8.5-1.5 21-1.5 27 0l2-12-7 11V11l-5.5 13.5-3-15-3 15-5.5-14V25L7 14l2 12zM9 26c0 2 1.5 2 2.5 4 1 1.5 1 1 .5 3.5-1.5 1-1.5 2.5-1.5 2.5-1.5 1.5.5 2.5.5 2.5 6.5 1 16.5 1 23 0 0 0 1.5-1 0-2.5 0 0 .5-1.5-1-2.5-.5-2.5-.5-2 .5-3.5 1-2 2.5-2 2.5-4-8.5-1.5-18.5-1.5-27 0z\" stroke-linecap=\"butt\" /><path d=\"M11.5 30c3.5-1 18.5-1 22 0M12 33.5c6-1 15-1 21 0\" fill=\"none\" /></g><g id=\"white-king\" class=\"white king\" fill=\"none\" fill-rule=\"evenodd\" stroke=\"#000\" stroke-width=\"1.5\" stroke-linecap=\"round\" stroke-linejoin=\"round\"><path d=\"M22.5 11.63V6M20 8h5\" stroke-linejoin=\"miter\" /><path d=\"M22.5 25s4.5-7.5 3-10.5c0 0-1-2.5-3-2.5s-3 2.5-3 2.5c-1.5 3 3 10.5 3 10.5\" fill=\"#fff\" stroke-linecap=\"butt\" stroke-linejoin=\"miter\" /><path d=\"M11.5 37c5.5 3.5 15.5 3.5 21 0v-7s9-4.5 6-10.5c-4-6.5-13.5-3.5-16 4V27v-3.5c-3.5-7.5-13-10.5-16-4-3 6 5 10 5 10V37z\" fill=\"#fff\" /><path d=\"M11.5 30c5.5-3 15.5-3 21 0m-21 3.5c5.5-3 15.5-3 21 0m-21 3.5c5.5-3 15.5-3 21 0\" /></g><g id=\"black-pawn\" class=\"black pawn\"><path d=\"M22 9c-2.21 0-4 1.79-4 4 0 .89.29 1.71.78 2.38-1.95 1.12-3.28 3.21-3.28 5.62 0 2.03.94 3.84 2.41 5.03-3 1.06-7.41 5.55-7.41 13.47h23c0-7.92-4.41-12.41-7.41-13.47 1.47-1.19 2.41-3 2.41-5.03 0-2.41-1.33-4.5-3.28-5.62.49-.67.78-1.49.78-2.38 0-2.21-1.79-4-4-4z\" stroke=\"#000\" stroke-width=\"1.5\" stroke-linecap=\"round\" /></g><g id=\"black-knight\" class=\"black knight\" fill=\"none\" fill-rule=\"evenodd\" stroke=\"#000\" stroke-width=\"1.5\" stroke-linecap=\"round\" stroke-linejoin=\"round\"><path d=\"M 22,10 C 32.5,11 38.5,18 38,39 L 15,39 C 15,30 25,32.5 23,18\" style=\"fill:#000000; stroke:#000000;\" /><path d=\"M 24,18 C 24.38,20.91 18.45,25.37 16,27 C 13,29 13.18,31.34 11,31 C 9.958,30.06 12.41,27.96 11,28 C 10,28 11.19,29.23 10,30 C 9,30 5.997,31 6,26 C 6,24 12,14 12,14 C 12,14 13.89,12.1 14,10.5 C 13.27,9.506 13.5,8.5 13.5,7.5 C 14.5,6.5 16.5,10 16.5,10 L 18.5,10 C 18.5,10 19.28,8.008 21,7 C 22,7 22,10 22,10\" style=\"fill:#000000; stroke:#000000;\" /><path d=\"M 9.5 25.5 A 0.5 0.5 0 1 1 8.5,25.5 A 0.5 0.5 0 1 1 9.5 25.5 z\" style=\"fill:#ececec; stroke:#ececec;\" /><path d=\"M 15 15.5 A 0.5 1.5 0 1 1 14,15.5 A 0.5 1.5 0 1 1 15 15.5 z\" transform=\"matrix(0.866,0.5,-0.5,0.866,9.693,-5.173)\" style=\"fill:#ececec; stroke:#ececec;\" /><path d=\"M 24.55,10.4 L 24.1,11.85 L 24.6,12 C 27.75,13 30.25,14.49 32.5,18.75 C 34.75,23.01 35.75,29.06 35.25,39 L 35.2,39.5 L 37.45,39.5 L 37.5,39 C 38,28.94 36.62,22.15 34.25,17.66 C 31.88,13.17 28.46,11.02 25.06,10.5 L 24.55,10.4 z \" style=\"fill:#ececec; stroke:none;\" /></g><g id=\"black-bishop\" class=\"black bishop\" fill=\"none\" fill-rule=\"evenodd\" stroke=\"#000\" stroke-width=\"1.5\" stroke-linecap=\"round\" stroke-linejoin=\"round\"><path d=\"M9 36c3.39-.97 10.11.43 13.5-2 3.39 2.43 10.11 1.03 13.5 2 0 0 1.65.54 3 2-.68.97-1.65.99-3 .5-3.39-.97-10.11.46-13.5-1-3.39 1.46-10.11.03-13.5 1-1.354.49-2.323.47-3-.5 1.354-1.94 3-2 3-2zm6-4c2.5 2.5 12.5 2.5 15 0 .5-1.5 0-2 0-2 0-2.5-2.5-4-2.5-4 5.5-1.5 6-11.5-5-15.5-11 4-10.5 14-5 15.5 0 0-2.5 1.5-2.5 4 0 0-.5.5 0 2zM25 8a2.5 2.5 0 1 1-5 0 2.5 2.5 0 1 1 5 0z\" fill=\"#000\" stroke-linecap=\"butt\" /><path d=\"M17.5 26h10M15 30h15m-7.5-14.5v5M20 18h5\" stroke=\"#fff\" stroke-linejoin=\"miter\" /></g><g id=\"black-rook\" class=\"black rook\" fill=\"#000\" fill-rule=\"evenodd\" stroke=\"#000\" stroke-width=\"1.5\" stroke-linecap=\"round\" stroke-linejoin=\"round\"><path d=\"M9 39h27v-3H9v3zM12.5 32l1.5-2.5h17l1.5 2.5h-20zM12 36v-4h21v4H12z\" stroke-linecap=\"butt\" /><path d=\"M14 29.5v-13h17v13H14z\" stroke-linecap=\"butt\" stroke-linejoin=\"miter\" /><path d=\"M14 16.5L11 14h23l-3 2.5H14zM11 14V9h4v2h5V9h5v2h5V9h4v5H11z\" stroke-linecap=\"butt\" /><path d=\"M12 35.5h21M13 31.5h19M14 29.5h17M14 16.5h17M11 14h23\" fill=\"none\" stroke=\"#fff\" stroke-width=\"1\" stroke-linejoin=\"miter\" /></g><g id=\"black-king\" class=\"black king\" fill=\"none\" fill-rule=\"evenodd\" stroke=\"#000\" stroke-width=\"1.5\" stroke-linecap=\"round\" stroke-linejoin=\"round\"><path d=\"M22.5 11.63V6\" stroke-linejoin=\"miter\" /><path d=\"M22.5 25s4.5-7.5 3-10.5c0 0-1-2.5-3-2.5s-3 2.5-3 2.5c-1.5 3 3 10.5 3 10.5\" fill=\"#000\" stroke-linecap=\"butt\" stroke-linejoin=\"miter\" /><path d=\"M11.5 37c5.5 3.5 15.5 3.5 21 0v-7s9-4.5 6-10.5c-4-6.5-13.5-3.5-16 4V27v-3.5c-3.5-7.5-13-10.5-16-4-3 6 5 10 5 10V37z\" fill=\"#000\" /><path d=\"M20 8h5\" stroke-linejoin=\"miter\" /><path d=\"M32 29.5s8.5-4 6.03-9.65C34.15 14 25 18 22.5 24.5l.01 2.1-.01-2.1C20 18 9.906 14 6.997 19.85c-2.497 5.65 4.853 9 4.853 9M11.5 30c5.5-3 15.5-3 21 0m-21 3.5c5.5-3 15.5-3 21 0m-21 3.5c5.5-3 15.5-3 21 0\" stroke=\"#fff\" /></g></defs><rect x=\"20\" y=\"335\" width=\"45\" height=\"45\" class=\"square dark a1\" stroke=\"none\" fill=\"#d18b47\" /><use xlink:href=\"#white-rook\" transform=\"translate(20, 335)\" /><rect x=\"65\" y=\"335\" width=\"45\" height=\"45\" class=\"square light b1\" stroke=\"none\" fill=\"#ffce9e\" /><use xlink:href=\"#white-knight\" transform=\"translate(65, 335)\" /><rect x=\"110\" y=\"335\" width=\"45\" height=\"45\" class=\"square dark c1\" stroke=\"none\" fill=\"#d18b47\" /><use xlink:href=\"#white-bishop\" transform=\"translate(110, 335)\" /><rect x=\"155\" y=\"335\" width=\"45\" height=\"45\" class=\"square light d1\" stroke=\"none\" fill=\"#ffce9e\" /><use xlink:href=\"#white-queen\" transform=\"translate(155, 335)\" /><rect x=\"200\" y=\"335\" width=\"45\" height=\"45\" class=\"square dark e1\" stroke=\"none\" fill=\"#d18b47\" /><use xlink:href=\"#white-king\" transform=\"translate(200, 335)\" /><rect x=\"245\" y=\"335\" width=\"45\" height=\"45\" class=\"square light f1\" stroke=\"none\" fill=\"#ffce9e\" /><use xlink:href=\"#white-bishop\" transform=\"translate(245, 335)\" /><rect x=\"290\" y=\"335\" width=\"45\" height=\"45\" class=\"square dark g1\" stroke=\"none\" fill=\"#d18b47\" /><use xlink:href=\"#white-knight\" transform=\"translate(290, 335)\" /><rect x=\"335\" y=\"335\" width=\"45\" height=\"45\" class=\"square light h1\" stroke=\"none\" fill=\"#ffce9e\" /><use xlink:href=\"#white-rook\" transform=\"translate(335, 335)\" /><rect x=\"20\" y=\"290\" width=\"45\" height=\"45\" class=\"square light a2\" stroke=\"none\" fill=\"#ffce9e\" /><use xlink:href=\"#white-pawn\" transform=\"translate(20, 290)\" /><rect x=\"65\" y=\"290\" width=\"45\" height=\"45\" class=\"square dark b2\" stroke=\"none\" fill=\"#d18b47\" /><use xlink:href=\"#white-pawn\" transform=\"translate(65, 290)\" /><rect x=\"110\" y=\"290\" width=\"45\" height=\"45\" class=\"square light c2\" stroke=\"none\" fill=\"#ffce9e\" /><use xlink:href=\"#white-pawn\" transform=\"translate(110, 290)\" /><rect x=\"155\" y=\"290\" width=\"45\" height=\"45\" class=\"square dark d2\" stroke=\"none\" fill=\"#d18b47\" /><use xlink:href=\"#white-pawn\" transform=\"translate(155, 290)\" /><rect x=\"200\" y=\"290\" width=\"45\" height=\"45\" class=\"square light e2\" stroke=\"none\" fill=\"#ffce9e\" /><rect x=\"245\" y=\"290\" width=\"45\" height=\"45\" class=\"square dark f2\" stroke=\"none\" fill=\"#d18b47\" /><use xlink:href=\"#white-pawn\" transform=\"translate(245, 290)\" /><rect x=\"290\" y=\"290\" width=\"45\" height=\"45\" class=\"square light g2\" stroke=\"none\" fill=\"#ffce9e\" /><use xlink:href=\"#white-pawn\" transform=\"translate(290, 290)\" /><rect x=\"335\" y=\"290\" width=\"45\" height=\"45\" class=\"square dark h2\" stroke=\"none\" fill=\"#d18b47\" /><use xlink:href=\"#white-pawn\" transform=\"translate(335, 290)\" /><rect x=\"20\" y=\"245\" width=\"45\" height=\"45\" class=\"square dark a3\" stroke=\"none\" fill=\"#d18b47\" /><rect x=\"65\" y=\"245\" width=\"45\" height=\"45\" class=\"square light b3\" stroke=\"none\" fill=\"#ffce9e\" /><rect x=\"110\" y=\"245\" width=\"45\" height=\"45\" class=\"square dark c3\" stroke=\"none\" fill=\"#d18b47\" /><rect x=\"155\" y=\"245\" width=\"45\" height=\"45\" class=\"square light d3\" stroke=\"none\" fill=\"#ffce9e\" /><rect x=\"200\" y=\"245\" width=\"45\" height=\"45\" class=\"square dark e3\" stroke=\"none\" fill=\"#d18b47\" /><rect x=\"245\" y=\"245\" width=\"45\" height=\"45\" class=\"square light f3\" stroke=\"none\" fill=\"#ffce9e\" /><rect x=\"290\" y=\"245\" width=\"45\" height=\"45\" class=\"square dark g3\" stroke=\"none\" fill=\"#d18b47\" /><rect x=\"335\" y=\"245\" width=\"45\" height=\"45\" class=\"square light h3\" stroke=\"none\" fill=\"#ffce9e\" /><rect x=\"20\" y=\"200\" width=\"45\" height=\"45\" class=\"square light a4\" stroke=\"none\" fill=\"#ffce9e\" /><rect x=\"65\" y=\"200\" width=\"45\" height=\"45\" class=\"square dark b4\" stroke=\"none\" fill=\"#d18b47\" /><rect x=\"110\" y=\"200\" width=\"45\" height=\"45\" class=\"square light c4\" stroke=\"none\" fill=\"#ffce9e\" /><rect x=\"155\" y=\"200\" width=\"45\" height=\"45\" class=\"square dark d4\" stroke=\"none\" fill=\"#d18b47\" /><rect x=\"200\" y=\"200\" width=\"45\" height=\"45\" class=\"square light e4\" stroke=\"none\" fill=\"#ffce9e\" /><rect x=\"245\" y=\"200\" width=\"45\" height=\"45\" class=\"square dark f4\" stroke=\"none\" fill=\"#d18b47\" /><rect x=\"290\" y=\"200\" width=\"45\" height=\"45\" class=\"square light g4\" stroke=\"none\" fill=\"#ffce9e\" /><rect x=\"335\" y=\"200\" width=\"45\" height=\"45\" class=\"square dark h4\" stroke=\"none\" fill=\"#d18b47\" /><rect x=\"20\" y=\"155\" width=\"45\" height=\"45\" class=\"square dark a5\" stroke=\"none\" fill=\"#d18b47\" /><rect x=\"65\" y=\"155\" width=\"45\" height=\"45\" class=\"square light b5\" stroke=\"none\" fill=\"#ffce9e\" /><rect x=\"110\" y=\"155\" width=\"45\" height=\"45\" class=\"square dark c5\" stroke=\"none\" fill=\"#d18b47\" /><rect x=\"155\" y=\"155\" width=\"45\" height=\"45\" class=\"square light d5\" stroke=\"none\" fill=\"#ffce9e\" /><rect x=\"200\" y=\"155\" width=\"45\" height=\"45\" class=\"square dark e5\" stroke=\"none\" fill=\"#d18b47\" /><rect x=\"245\" y=\"155\" width=\"45\" height=\"45\" class=\"square light f5\" stroke=\"none\" fill=\"#ffce9e\" /><rect x=\"290\" y=\"155\" width=\"45\" height=\"45\" class=\"square dark g5\" stroke=\"none\" fill=\"#d18b47\" /><rect x=\"335\" y=\"155\" width=\"45\" height=\"45\" class=\"square light h5\" stroke=\"none\" fill=\"#ffce9e\" /><rect x=\"20\" y=\"110\" width=\"45\" height=\"45\" class=\"square light a6\" stroke=\"none\" fill=\"#ffce9e\" /><rect x=\"65\" y=\"110\" width=\"45\" height=\"45\" class=\"square dark b6\" stroke=\"none\" fill=\"#d18b47\" /><use xlink:href=\"#black-pawn\" transform=\"translate(65, 110)\" /><rect x=\"110\" y=\"110\" width=\"45\" height=\"45\" class=\"square light c6\" stroke=\"none\" fill=\"#ffce9e\" /><use xlink:href=\"#black-pawn\" transform=\"translate(110, 110)\" /><rect x=\"155\" y=\"110\" width=\"45\" height=\"45\" class=\"square dark d6\" stroke=\"none\" fill=\"#d18b47\" /><rect x=\"200\" y=\"110\" width=\"45\" height=\"45\" class=\"square light e6\" stroke=\"none\" fill=\"#ffce9e\" /><rect x=\"245\" y=\"110\" width=\"45\" height=\"45\" class=\"square dark f6\" stroke=\"none\" fill=\"#d18b47\" /><rect x=\"290\" y=\"110\" width=\"45\" height=\"45\" class=\"square light g6\" stroke=\"none\" fill=\"#ffce9e\" /><use xlink:href=\"#black-pawn\" transform=\"translate(290, 110)\" /><rect x=\"335\" y=\"110\" width=\"45\" height=\"45\" class=\"square dark h6\" stroke=\"none\" fill=\"#d18b47\" /><rect x=\"20\" y=\"65\" width=\"45\" height=\"45\" class=\"square dark a7\" stroke=\"none\" fill=\"#d18b47\" /><use xlink:href=\"#black-pawn\" transform=\"translate(20, 65)\" /><rect x=\"65\" y=\"65\" width=\"45\" height=\"45\" class=\"square light b7\" stroke=\"none\" fill=\"#ffce9e\" /><rect x=\"110\" y=\"65\" width=\"45\" height=\"45\" class=\"square dark c7\" stroke=\"none\" fill=\"#d18b47\" /><rect x=\"155\" y=\"65\" width=\"45\" height=\"45\" class=\"square light d7\" stroke=\"none\" fill=\"#ffce9e\" /><use xlink:href=\"#black-pawn\" transform=\"translate(155, 65)\" /><rect x=\"200\" y=\"65\" width=\"45\" height=\"45\" class=\"square dark e7\" stroke=\"none\" fill=\"#d18b47\" /><rect x=\"245\" y=\"65\" width=\"45\" height=\"45\" class=\"square light lastmove f7\" stroke=\"none\" fill=\"#cdd16a\" /><use xlink:href=\"#black-king\" transform=\"translate(245, 65)\" /><rect x=\"290\" y=\"65\" width=\"45\" height=\"45\" class=\"square dark g7\" stroke=\"none\" fill=\"#d18b47\" /><rect x=\"335\" y=\"65\" width=\"45\" height=\"45\" class=\"square light h7\" stroke=\"none\" fill=\"#ffce9e\" /><use xlink:href=\"#black-pawn\" transform=\"translate(335, 65)\" /><rect x=\"20\" y=\"20\" width=\"45\" height=\"45\" class=\"square light a8\" stroke=\"none\" fill=\"#ffce9e\" /><use xlink:href=\"#black-rook\" transform=\"translate(20, 20)\" /><rect x=\"65\" y=\"20\" width=\"45\" height=\"45\" class=\"square dark b8\" stroke=\"none\" fill=\"#d18b47\" /><use xlink:href=\"#black-knight\" transform=\"translate(65, 20)\" /><rect x=\"110\" y=\"20\" width=\"45\" height=\"45\" class=\"square light c8\" stroke=\"none\" fill=\"#ffce9e\" /><use xlink:href=\"#black-bishop\" transform=\"translate(110, 20)\" /><rect x=\"155\" y=\"20\" width=\"45\" height=\"45\" class=\"square dark d8\" stroke=\"none\" fill=\"#d18b47\" /><use xlink:href=\"#white-queen\" transform=\"translate(155, 20)\" /><rect x=\"200\" y=\"20\" width=\"45\" height=\"45\" class=\"square light lastmove e8\" stroke=\"none\" fill=\"#cdd16a\" /><rect x=\"245\" y=\"20\" width=\"45\" height=\"45\" class=\"square dark f8\" stroke=\"none\" fill=\"#d18b47\" /><use xlink:href=\"#black-bishop\" transform=\"translate(245, 20)\" /><rect x=\"290\" y=\"20\" width=\"45\" height=\"45\" class=\"square light g8\" stroke=\"none\" fill=\"#ffce9e\" /><use xlink:href=\"#black-knight\" transform=\"translate(290, 20)\" /><rect x=\"335\" y=\"20\" width=\"45\" height=\"45\" class=\"square dark h8\" stroke=\"none\" fill=\"#d18b47\" /><use xlink:href=\"#black-rook\" transform=\"translate(335, 20)\" /><text x=\"42\" y=\"10\" font-size=\"14\" text-anchor=\"middle\" alignment-baseline=\"middle\">a</text><text x=\"42\" y=\"390\" font-size=\"14\" text-anchor=\"middle\" alignment-baseline=\"middle\">a</text><text x=\"87\" y=\"10\" font-size=\"14\" text-anchor=\"middle\" alignment-baseline=\"middle\">b</text><text x=\"87\" y=\"390\" font-size=\"14\" text-anchor=\"middle\" alignment-baseline=\"middle\">b</text><text x=\"132\" y=\"10\" font-size=\"14\" text-anchor=\"middle\" alignment-baseline=\"middle\">c</text><text x=\"132\" y=\"390\" font-size=\"14\" text-anchor=\"middle\" alignment-baseline=\"middle\">c</text><text x=\"177\" y=\"10\" font-size=\"14\" text-anchor=\"middle\" alignment-baseline=\"middle\">d</text><text x=\"177\" y=\"390\" font-size=\"14\" text-anchor=\"middle\" alignment-baseline=\"middle\">d</text><text x=\"222\" y=\"10\" font-size=\"14\" text-anchor=\"middle\" alignment-baseline=\"middle\">e</text><text x=\"222\" y=\"390\" font-size=\"14\" text-anchor=\"middle\" alignment-baseline=\"middle\">e</text><text x=\"267\" y=\"10\" font-size=\"14\" text-anchor=\"middle\" alignment-baseline=\"middle\">f</text><text x=\"267\" y=\"390\" font-size=\"14\" text-anchor=\"middle\" alignment-baseline=\"middle\">f</text><text x=\"312\" y=\"10\" font-size=\"14\" text-anchor=\"middle\" alignment-baseline=\"middle\">g</text><text x=\"312\" y=\"390\" font-size=\"14\" text-anchor=\"middle\" alignment-baseline=\"middle\">g</text><text x=\"357\" y=\"10\" font-size=\"14\" text-anchor=\"middle\" alignment-baseline=\"middle\">h</text><text x=\"357\" y=\"390\" font-size=\"14\" text-anchor=\"middle\" alignment-baseline=\"middle\">h</text><text x=\"10\" y=\"357\" font-size=\"14\" text-anchor=\"middle\" alignment-baseline=\"middle\">1</text><text x=\"390\" y=\"357\" font-size=\"14\" text-anchor=\"middle\" alignment-baseline=\"middle\">1</text><text x=\"10\" y=\"312\" font-size=\"14\" text-anchor=\"middle\" alignment-baseline=\"middle\">2</text><text x=\"390\" y=\"312\" font-size=\"14\" text-anchor=\"middle\" alignment-baseline=\"middle\">2</text><text x=\"10\" y=\"267\" font-size=\"14\" text-anchor=\"middle\" alignment-baseline=\"middle\">3</text><text x=\"390\" y=\"267\" font-size=\"14\" text-anchor=\"middle\" alignment-baseline=\"middle\">3</text><text x=\"10\" y=\"222\" font-size=\"14\" text-anchor=\"middle\" alignment-baseline=\"middle\">4</text><text x=\"390\" y=\"222\" font-size=\"14\" text-anchor=\"middle\" alignment-baseline=\"middle\">4</text><text x=\"10\" y=\"177\" font-size=\"14\" text-anchor=\"middle\" alignment-baseline=\"middle\">5</text><text x=\"390\" y=\"177\" font-size=\"14\" text-anchor=\"middle\" alignment-baseline=\"middle\">5</text><text x=\"10\" y=\"132\" font-size=\"14\" text-anchor=\"middle\" alignment-baseline=\"middle\">6</text><text x=\"390\" y=\"132\" font-size=\"14\" text-anchor=\"middle\" alignment-baseline=\"middle\">6</text><text x=\"10\" y=\"87\" font-size=\"14\" text-anchor=\"middle\" alignment-baseline=\"middle\">7</text><text x=\"390\" y=\"87\" font-size=\"14\" text-anchor=\"middle\" alignment-baseline=\"middle\">7</text><text x=\"10\" y=\"42\" font-size=\"14\" text-anchor=\"middle\" alignment-baseline=\"middle\">8</text><text x=\"390\" y=\"42\" font-size=\"14\" text-anchor=\"middle\" alignment-baseline=\"middle\">8</text></svg>"
      ],
      "text/plain": [
       "<IPython.core.display.HTML object>"
      ]
     },
     "metadata": {},
     "output_type": "display_data"
    }
   ],
   "source": [
    "main()"
   ]
  },
  {
   "cell_type": "markdown",
   "metadata": {},
   "source": [
    "## To Do\n",
    "\n",
    "1. Add more centipawn possibilities to prevent enormous alpha-beta tree search\n",
    "2. Put human player functions to separate files\n",
    "3. Attempt ML engine\n",
    "4. At the maximum search depth the search needs to be extended by searching all capture moves, the so called [quiescence search](https://www.chessprogramming.org/Quiescence_Search) to avoid the [\"Horizon Effect\"](https://www.chessprogramming.org/Horizon_Effect).\n",
    "5. When pushing minimax move, return tree to show what the predicted possibilities after were\n",
    "\n",
    "## Issues\n",
    "\n",
    "*If I have an idea on how to solve it, it will be a subpoint*\n",
    "\n",
    "- Can't run statistics due to unknown repetition error\n",
    "- Min-max is sloo-oow. Can only run approx. 2.5k games/sec\n",
    "    - Add opening reportoire\n",
    "    - Add rewards for better pawn structure, double-bishops, etc.\n",
    "    - **Will make slower**: Quiesce\n",
    "\n",
    "## Solved \n",
    "- When playing human, WRONG COLORS!!!! **Assigned black as start**\n",
    "- Assign better centi-pawn values based on position of pawns **Used medium array with pos. values**\n",
    "- Smart computer seems to repeat moves **Randomly shuffle children**\n",
    "- Increased depth using alpha-beta pruning to minimize processing power **not much better**\n",
    "- Smart computer will **not** take something, even if it is advantageous, if it means the piece will be sacrificed **Because we are not doing depth-ply but depth-half-move, we need to make sure that the depth is even.**\n",
    "- Increase depth using min-max **Wrote min-max function**"
   ]
  }
 ],
 "metadata": {
  "kernelspec": {
   "display_name": "Python 3",
   "language": "python",
   "name": "python3"
  },
  "language_info": {
   "codemirror_mode": {
    "name": "ipython",
    "version": 3
   },
   "file_extension": ".py",
   "mimetype": "text/x-python",
   "name": "python",
   "nbconvert_exporter": "python",
   "pygments_lexer": "ipython3",
   "version": "3.8.0"
  }
 },
 "nbformat": 4,
 "nbformat_minor": 2
}
